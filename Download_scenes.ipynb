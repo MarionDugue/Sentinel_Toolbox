{
 "cells": [
  {
   "cell_type": "code",
   "execution_count": 3,
   "metadata": {},
   "outputs": [],
   "source": [
    "import requests as re\n",
    "from tqdm import tqdm"
   ]
  },
  {
   "cell_type": "code",
   "execution_count": null,
   "metadata": {},
   "outputs": [],
   "source": [
    "USERNAME = 'mdugue@student.ethz.ch'  #### CHANGE FOR USERNAME\n",
    "PASSWORD = 'ravpex-gUpwod-9fywma' ### CHANGE FOR PASSWORD\n",
    "URL = 'https://download.dataspace.copernicus.eu/odata/v1/Products(7730bb6f-208b-468a-83dd-2bb6de1194e0)/$value' ### SINGLE FILE TO DOWNLOAD (get the link from the info page of the product on copernicus browser)\n",
    "FILE = '/run/user/1000/gvfs/smb-share:server=ifu-eo-cds-1.ethz.ch,share=working/Marion/AGRI4SAR/Sentinel-1/S1A_IW_SLC__1SDV_20250303T054335_20250303T054402_058136_072E47_D5E1.SAFE.zip' ### Where to save it"
   ]
  },
  {
   "cell_type": "code",
   "execution_count": 9,
   "metadata": {},
   "outputs": [],
   "source": [
    "def get_access_token(username: str, password: str) -> str:\n",
    "    data = {\n",
    "        \"client_id\": \"cdse-public\",\n",
    "        \"username\": username,\n",
    "        \"password\": password,\n",
    "        \"grant_type\": \"password\",\n",
    "    }\n",
    "    try:\n",
    "        r = re.post(\n",
    "            \"https://identity.dataspace.copernicus.eu/auth/realms/CDSE/protocol/openid-connect/token\",\n",
    "            data=data,\n",
    "            timeout=10,\n",
    "        )\n",
    "        r.raise_for_status()\n",
    "    except Exception as e:\n",
    "        raise Exception(f'Access token creation failed. Reponse from the server was: {r.json()}') from e\n",
    "    return r.json()[\"access_token\"]\n"
   ]
  },
  {
   "cell_type": "code",
   "execution_count": 10,
   "metadata": {},
   "outputs": [
    {
     "name": "stderr",
     "output_type": "stream",
     "text": [
      "1.01MKiB [15:26, 1.09kKiB/s]                          \n"
     ]
    }
   ],
   "source": [
    "access_token = get_access_token(USERNAME, PASSWORD)\n",
    "\n",
    "headers = {\"Authorization\": f\"Bearer {access_token}\"}\n",
    "session = re.Session()\n",
    "session.headers.update(headers)\n",
    "\n",
    "response = session.get(URL, headers=headers, stream=True)\n",
    "\n",
    "total_size = int(response.headers.get('content-length', 0))\n",
    "block_size = 8192\n",
    "\n",
    "with open(FILE, \"wb\") as file:\n",
    "    for chunk in tqdm(response.iter_content(chunk_size=block_size), total=total_size // block_size, unit='KiB', unit_scale=True):\n",
    "        if chunk:\n",
    "            file.write(chunk)\n"
   ]
  },
  {
   "cell_type": "code",
   "execution_count": null,
   "metadata": {},
   "outputs": [],
   "source": []
  }
 ],
 "metadata": {
  "kernelspec": {
   "display_name": "snap_process",
   "language": "python",
   "name": "python3"
  },
  "language_info": {
   "codemirror_mode": {
    "name": "ipython",
    "version": 3
   },
   "file_extension": ".py",
   "mimetype": "text/x-python",
   "name": "python",
   "nbconvert_exporter": "python",
   "pygments_lexer": "ipython3",
   "version": "3.13.2"
  },
  "orig_nbformat": 4
 },
 "nbformat": 4,
 "nbformat_minor": 2
}
